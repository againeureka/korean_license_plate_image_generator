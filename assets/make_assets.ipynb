{
 "cells": [
  {
   "cell_type": "code",
   "execution_count": 6,
   "id": "a577a417-f2ad-40b0-8c81-fdda53c7a1a2",
   "metadata": {},
   "outputs": [],
   "source": [
    "import cv2\n",
    "import numpy as np\n",
    "import os\n",
    "\n",
    "# 색 거리 함수\n",
    "def color_distance(pixel, reference):\n",
    "    return np.linalg.norm(pixel.astype(np.int16) - reference.astype(np.int16))\n",
    "\n",
    "def convert(input_dir, output_dir, org_fg, target_fg, target_bg, fg_thresh):\n",
    "    for file in os.listdir(input_dir):\n",
    "        if not file.lower().endswith(('.jpg', '.jpeg', '.png', '.bmp')):\n",
    "            continue\n",
    "    \n",
    "        path = os.path.join(input_dir, file)\n",
    "        img = cv2.imread(path)\n",
    "    \n",
    "        # 출력 이미지를 아예 연두색으로 초기화\n",
    "        result = np.full_like(img, target_bg)\n",
    "    \n",
    "        # 전경만 덮어쓰기\n",
    "        h, w, _ = img.shape\n",
    "        for y in range(h):\n",
    "            for x in range(w):\n",
    "                px = img[y, x]\n",
    "                if color_distance(px, org_fg) < fg_thresh:\n",
    "                    result[y, x] = target_fg\n",
    "    \n",
    "        cv2.imwrite(os.path.join(output_dir, file), result)\n",
    "    \n",
    "    print(\"✅ 초기 배경 고정 + 전경만 덮어쓰기 방식으로 변환 완료\")"
   ]
  },
  {
   "cell_type": "code",
   "execution_count": 7,
   "id": "83eb494f-ac2c-44a3-bdee-0e26a4c7fefb",
   "metadata": {},
   "outputs": [
    {
     "name": "stdout",
     "output_type": "stream",
     "text": [
      "✅ 초기 배경 고정 + 전경만 덮어쓰기 방식으로 변환 완료\n"
     ]
    }
   ],
   "source": [
    "\n",
    "# 입력 및 출력 폴더 경로\n",
    "input_dir = './char1_y'\n",
    "output_dir = './char2_g'\n",
    "os.makedirs(output_dir, exist_ok=True)\n",
    "\n",
    "org_fg = np.array([0, 0, 0])     # 원본 전경: 검정색\n",
    "target_fg = np.array([0, 0, 0])  # 타겟 전경: 검정색\n",
    "target_bg = np.array([86, 250, 187])  # 타겟 배경: 연두색\n",
    "\n",
    "# 허용 거리 (압축 아티팩트 대응)\n",
    "fg_thresh = 60\n",
    "\n",
    "convert(input_dir, output_dir, org_fg, target_fg, target_bg, fg_thresh)  "
   ]
  },
  {
   "cell_type": "code",
   "execution_count": 8,
   "id": "08229fa7-187c-4f10-bc81-3d509a1a80a0",
   "metadata": {},
   "outputs": [
    {
     "name": "stdout",
     "output_type": "stream",
     "text": [
      "✅ 초기 배경 고정 + 전경만 덮어쓰기 방식으로 변환 완료\n"
     ]
    }
   ],
   "source": [
    "\n",
    "# 입력 및 출력 폴더 경로\n",
    "input_dir = './num_y'\n",
    "output_dir = './num_g2'\n",
    "os.makedirs(output_dir, exist_ok=True)\n",
    "\n",
    "org_fg = np.array([0, 0, 0])     # 원본 전경: 검정색\n",
    "target_fg = np.array([0, 0, 0])  # 타겟 전경: 검정색\n",
    "target_bg = np.array([86, 250, 187])  # 타겟 배경: 연두색\n",
    "\n",
    "# 허용 거리 (압축 아티팩트 대응)\n",
    "fg_thresh = 60\n",
    "\n",
    "convert(input_dir, output_dir, org_fg, target_fg, target_bg, fg_thresh)  "
   ]
  },
  {
   "cell_type": "markdown",
   "id": "c9af927e-e367-442b-b17e-fe0f860b08c0",
   "metadata": {},
   "source": [
    "## Plate 색 변경"
   ]
  },
  {
   "cell_type": "code",
   "execution_count": 9,
   "id": "b575d5f5-1310-4a6a-8470-63f0520c22e9",
   "metadata": {},
   "outputs": [
    {
     "name": "stdout",
     "output_type": "stream",
     "text": [
      "✅ 초기 배경 고정 + 전경만 덮어쓰기 방식으로 변환 완료\n"
     ]
    }
   ],
   "source": [
    "# plate 색 변경\n",
    "\n",
    "import cv2\n",
    "import numpy as np\n",
    "import os\n",
    "\n",
    "# 색 거리 함수\n",
    "def color_distance(pixel, reference):\n",
    "    return np.linalg.norm(pixel.astype(np.int16) - reference.astype(np.int16))\n",
    "\n",
    "def convert_plate():\n",
    "    if True:\n",
    "    \n",
    "        org_fg = np.array([0, 0, 0])     # 원본 전경: 검정색\n",
    "        target_fg = np.array([0, 0, 0])  # 타겟 전경: 검정색\n",
    "        target_bg = np.array([86, 250, 187])  # 타겟 배경: 연두색\n",
    "        fg_thresh = 40\n",
    "\n",
    "        org_path = 'plate_g.jpg'\n",
    "        target_path = 'plate_g2.jpg'\n",
    "        \n",
    "        img = cv2.imread(org_path)\n",
    "    \n",
    "        # 출력 이미지를 아예 연두색으로 초기화\n",
    "        result = np.full_like(img, target_bg)\n",
    "    \n",
    "        # 전경만 덮어쓰기\n",
    "        h, w, _ = img.shape\n",
    "        for y in range(h):\n",
    "            for x in range(w):\n",
    "                px = img[y, x]\n",
    "                if color_distance(px, org_fg) < fg_thresh:\n",
    "                    result[y, x] = target_fg\n",
    "    \n",
    "        cv2.imwrite(target_path, result)\n",
    "    \n",
    "    print(\"✅ 초기 배경 고정 + 전경만 덮어쓰기 방식으로 변환 완료\")\n",
    "\n",
    "convert_plate()"
   ]
  },
  {
   "cell_type": "code",
   "execution_count": null,
   "id": "1df663cd-e0e6-4190-90aa-307273d2c137",
   "metadata": {},
   "outputs": [],
   "source": []
  },
  {
   "cell_type": "code",
   "execution_count": null,
   "id": "6e58d0bb-f987-49a5-94cf-9eb54fb522ed",
   "metadata": {},
   "outputs": [],
   "source": []
  },
  {
   "cell_type": "code",
   "execution_count": null,
   "id": "0e0725e2-31e2-4eca-9e70-d373121f3bf9",
   "metadata": {},
   "outputs": [],
   "source": []
  }
 ],
 "metadata": {
  "kernelspec": {
   "display_name": "venv_base",
   "language": "python",
   "name": "venv_base"
  },
  "language_info": {
   "codemirror_mode": {
    "name": "ipython",
    "version": 3
   },
   "file_extension": ".py",
   "mimetype": "text/x-python",
   "name": "python",
   "nbconvert_exporter": "python",
   "pygments_lexer": "ipython3",
   "version": "3.10.12"
  }
 },
 "nbformat": 4,
 "nbformat_minor": 5
}
